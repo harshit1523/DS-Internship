{
 "cells": [
  {
   "cell_type": "code",
   "execution_count": 23,
   "id": "1e470c54",
   "metadata": {},
   "outputs": [
    {
     "name": "stdout",
     "output_type": "stream",
     "text": [
      "(691, 33)\n",
      "(691,)\n"
     ]
    }
   ],
   "source": [
    "import pandas as pd\n",
    "import numpy as np\n",
    "from sklearn.model_selection import train_test_split\n",
    "from sklearn.linear_model import LinearRegression\n",
    "from sklearn.metrics import mean_squared_error\n",
    "from sklearn.metrics import median_absolute_error\n",
    "from sklearn.metrics import mean_absolute_error\n",
    "from sklearn.metrics import r2_score\n",
    "from sklearn.metrics import explained_variance_score\n",
    "\n",
    "def calculate_mape(y_true, y_pred):\n",
    "    return np.mean(np.abs((y_true - y_pred) / y_true)) * 100\n",
    "\n",
    "def calculate_cod(y_true, y_pred):\n",
    "    y_mean = np.mean(y_true)\n",
    "    tss = np.sum((y_true - y_mean) ** 2)\n",
    "    rss = np.sum((y_true - y_pred) ** 2)\n",
    "    r_squared = 1 - (rss / tss)\n",
    "    return r_squared\n",
    "\n",
    "data = pd.read_excel('C:\\\\Users\\\\Lenovo\\\\Desktop\\\\DS Internship\\\\Data\\\\Modelling Regression\\\\DS Internship - Modeling - Data.xlsx')\n",
    "features = data.drop(columns=['Store ID', 'Sales', 'Centre Type', 'Climate'])\n",
    "target_variable = 'Sales'\n",
    "X = features\n",
    "y = data[target_variable]\n",
    "\n",
    "print(X.shape)  \n",
    "print(y.shape)  \n",
    "\n"
   ]
  },
  {
   "cell_type": "code",
   "execution_count": 24,
   "id": "57111c0d",
   "metadata": {},
   "outputs": [],
   "source": [
    "data_encoded = pd.get_dummies(data, columns=['Pop class', 'Centre Type'])\n",
    "features = data_encoded.drop(columns=['Store ID', 'Sales', 'Climate'])\n",
    "target_variable = 'Sales'\n",
    "X = features\n",
    "y = data_encoded[target_variable]"
   ]
  },
  {
   "cell_type": "code",
   "execution_count": 25,
   "id": "d778c38b",
   "metadata": {},
   "outputs": [
    {
     "data": {
      "text/html": [
       "<style>#sk-container-id-5 {color: black;}#sk-container-id-5 pre{padding: 0;}#sk-container-id-5 div.sk-toggleable {background-color: white;}#sk-container-id-5 label.sk-toggleable__label {cursor: pointer;display: block;width: 100%;margin-bottom: 0;padding: 0.3em;box-sizing: border-box;text-align: center;}#sk-container-id-5 label.sk-toggleable__label-arrow:before {content: \"▸\";float: left;margin-right: 0.25em;color: #696969;}#sk-container-id-5 label.sk-toggleable__label-arrow:hover:before {color: black;}#sk-container-id-5 div.sk-estimator:hover label.sk-toggleable__label-arrow:before {color: black;}#sk-container-id-5 div.sk-toggleable__content {max-height: 0;max-width: 0;overflow: hidden;text-align: left;background-color: #f0f8ff;}#sk-container-id-5 div.sk-toggleable__content pre {margin: 0.2em;color: black;border-radius: 0.25em;background-color: #f0f8ff;}#sk-container-id-5 input.sk-toggleable__control:checked~div.sk-toggleable__content {max-height: 200px;max-width: 100%;overflow: auto;}#sk-container-id-5 input.sk-toggleable__control:checked~label.sk-toggleable__label-arrow:before {content: \"▾\";}#sk-container-id-5 div.sk-estimator input.sk-toggleable__control:checked~label.sk-toggleable__label {background-color: #d4ebff;}#sk-container-id-5 div.sk-label input.sk-toggleable__control:checked~label.sk-toggleable__label {background-color: #d4ebff;}#sk-container-id-5 input.sk-hidden--visually {border: 0;clip: rect(1px 1px 1px 1px);clip: rect(1px, 1px, 1px, 1px);height: 1px;margin: -1px;overflow: hidden;padding: 0;position: absolute;width: 1px;}#sk-container-id-5 div.sk-estimator {font-family: monospace;background-color: #f0f8ff;border: 1px dotted black;border-radius: 0.25em;box-sizing: border-box;margin-bottom: 0.5em;}#sk-container-id-5 div.sk-estimator:hover {background-color: #d4ebff;}#sk-container-id-5 div.sk-parallel-item::after {content: \"\";width: 100%;border-bottom: 1px solid gray;flex-grow: 1;}#sk-container-id-5 div.sk-label:hover label.sk-toggleable__label {background-color: #d4ebff;}#sk-container-id-5 div.sk-serial::before {content: \"\";position: absolute;border-left: 1px solid gray;box-sizing: border-box;top: 0;bottom: 0;left: 50%;z-index: 0;}#sk-container-id-5 div.sk-serial {display: flex;flex-direction: column;align-items: center;background-color: white;padding-right: 0.2em;padding-left: 0.2em;position: relative;}#sk-container-id-5 div.sk-item {position: relative;z-index: 1;}#sk-container-id-5 div.sk-parallel {display: flex;align-items: stretch;justify-content: center;background-color: white;position: relative;}#sk-container-id-5 div.sk-item::before, #sk-container-id-5 div.sk-parallel-item::before {content: \"\";position: absolute;border-left: 1px solid gray;box-sizing: border-box;top: 0;bottom: 0;left: 50%;z-index: -1;}#sk-container-id-5 div.sk-parallel-item {display: flex;flex-direction: column;z-index: 1;position: relative;background-color: white;}#sk-container-id-5 div.sk-parallel-item:first-child::after {align-self: flex-end;width: 50%;}#sk-container-id-5 div.sk-parallel-item:last-child::after {align-self: flex-start;width: 50%;}#sk-container-id-5 div.sk-parallel-item:only-child::after {width: 0;}#sk-container-id-5 div.sk-dashed-wrapped {border: 1px dashed gray;margin: 0 0.4em 0.5em 0.4em;box-sizing: border-box;padding-bottom: 0.4em;background-color: white;}#sk-container-id-5 div.sk-label label {font-family: monospace;font-weight: bold;display: inline-block;line-height: 1.2em;}#sk-container-id-5 div.sk-label-container {text-align: center;}#sk-container-id-5 div.sk-container {/* jupyter's `normalize.less` sets `[hidden] { display: none; }` but bootstrap.min.css set `[hidden] { display: none !important; }` so we also need the `!important` here to be able to override the default hidden behavior on the sphinx rendered scikit-learn.org. See: https://github.com/scikit-learn/scikit-learn/issues/21755 */display: inline-block !important;position: relative;}#sk-container-id-5 div.sk-text-repr-fallback {display: none;}</style><div id=\"sk-container-id-5\" class=\"sk-top-container\"><div class=\"sk-text-repr-fallback\"><pre>LinearRegression()</pre><b>In a Jupyter environment, please rerun this cell to show the HTML representation or trust the notebook. <br />On GitHub, the HTML representation is unable to render, please try loading this page with nbviewer.org.</b></div><div class=\"sk-container\" hidden><div class=\"sk-item\"><div class=\"sk-estimator sk-toggleable\"><input class=\"sk-toggleable__control sk-hidden--visually\" id=\"sk-estimator-id-5\" type=\"checkbox\" checked><label for=\"sk-estimator-id-5\" class=\"sk-toggleable__label sk-toggleable__label-arrow\">LinearRegression</label><div class=\"sk-toggleable__content\"><pre>LinearRegression()</pre></div></div></div></div></div>"
      ],
      "text/plain": [
       "LinearRegression()"
      ]
     },
     "execution_count": 25,
     "metadata": {},
     "output_type": "execute_result"
    }
   ],
   "source": [
    "X_train, X_test, y_train, y_test = train_test_split(X, y, test_size=0.2, random_state=42)\n",
    "data = data.dropna()\n",
    "categorical_cols = ['Pop class', 'Centre Type', 'Climate', 'Guys Segmentation', 'Girls Segmentation', 'ChangeMade', 'ChangeDate']\n",
    "data_encoded = pd.get_dummies(data, columns=categorical_cols)\n",
    "features = data_encoded.drop(columns=['Store ID', 'Sales'])\n",
    "target_variable = 'Sales'\n",
    "X = features\n",
    "y = data_encoded[target_variable]\n",
    "X_train, X_test, y_train, y_test = train_test_split(X, y, test_size=0.2, random_state=42)\n",
    "model = LinearRegression()\n",
    "model.fit(X_train, y_train)"
   ]
  },
  {
   "cell_type": "code",
   "execution_count": 26,
   "id": "2ddaf30e",
   "metadata": {},
   "outputs": [
    {
     "name": "stdout",
     "output_type": "stream",
     "text": [
      "Mean Absolute Error: 463560.367053044\n",
      "Mean Squared Error: 337926202408.6728\n",
      "Root Mean Squared Error: 581314.2028272428\n",
      "R squared: -0.3644601243805452\n",
      "\n",
      "Key Drivers:\n",
      "                            Feature         Coeff     Abs_Coeff\n",
      "120  ChangeDate_2015-09-17 00:00:00 -1.226955e+06  1.226955e+06\n",
      "199             ChangeDate_00:00:00  1.009694e+06  1.009694e+06\n",
      "56   ChangeDate_2008-11-17 00:00:00  9.918119e+05  9.918119e+05\n",
      "142  ChangeDate_2016-03-03 00:00:00 -9.575769e+05  9.575769e+05\n",
      "195  ChangeDate_2019-04-04 00:00:00  9.249128e+05  9.249128e+05\n",
      "..                              ...           ...           ...\n",
      "70   ChangeDate_2011-02-25 00:00:00 -2.403443e-01  2.403443e-01\n",
      "12    Average Household Income CrYr -1.055762e-01  1.055762e-01\n",
      "17        Wealth: Average Household  1.007191e-03  1.007191e-03\n",
      "15    Family Inc: Aggregate Average -4.333507e-05  4.333507e-05\n",
      "192  ChangeDate_2018-02-03 00:00:00  0.000000e+00  0.000000e+00\n",
      "\n",
      "[200 rows x 3 columns]\n"
     ]
    }
   ],
   "source": [
    "y_pred = model.predict(X_test)\n",
    "\n",
    "mae = mean_absolute_error(y_test, y_pred)\n",
    "mse = mean_squared_error(y_test, y_pred)\n",
    "rmse = np.sqrt(mse)\n",
    "r2 = r2_score(y_test, y_pred)\n",
    "\n",
    "print(f\"Mean Absolute Error: {mae}\")\n",
    "print(f\"Mean Squared Error: {mse}\")\n",
    "print(f\"Root Mean Squared Error: {rmse}\")\n",
    "print(f\"R squared: {r2}\")\n",
    "\n",
    "coefficients = model.coef_\n",
    "feature_names = X.columns\n",
    "coef_df = pd.DataFrame({'Feature': feature_names, 'Coeff': coefficients})\n",
    "coef_df['Abs_Coeff'] = np.abs(coef_df['Coeff'])\n",
    "coef_df = coef_df.sort_values(by='Abs_Coeff', ascending=False)\n",
    "print(\"\\nKey Drivers:\")\n",
    "print(coef_df)"
   ]
  },
  {
   "cell_type": "code",
   "execution_count": 27,
   "id": "90bead56",
   "metadata": {},
   "outputs": [
    {
     "name": "stdout",
     "output_type": "stream",
     "text": [
      "MAPE: 26.33%\n"
     ]
    }
   ],
   "source": [
    "mape = calculate_mape(y_test, y_pred)\n",
    "print(f\"MAPE: {mape:.2f}%\")"
   ]
  },
  {
   "cell_type": "code",
   "execution_count": 28,
   "id": "dc455c2c",
   "metadata": {},
   "outputs": [
    {
     "name": "stdout",
     "output_type": "stream",
     "text": [
      "Median Absolute Error: 377020.06\n"
     ]
    }
   ],
   "source": [
    "medae = median_absolute_error(y_test, y_pred)\n",
    "print(f\"Median Absolute Error: {medae:.2f}\")"
   ]
  },
  {
   "cell_type": "code",
   "execution_count": 29,
   "id": "a183219a",
   "metadata": {},
   "outputs": [
    {
     "name": "stdout",
     "output_type": "stream",
     "text": [
      "Coefficient of Determination: -0.36\n"
     ]
    }
   ],
   "source": [
    "cod = calculate_cod(y_test, y_pred)\n",
    "print(f\"Coefficient of Determination: {cod:.2f}\")"
   ]
  },
  {
   "cell_type": "code",
   "execution_count": 30,
   "id": "92cde670",
   "metadata": {},
   "outputs": [
    {
     "name": "stdout",
     "output_type": "stream",
     "text": [
      "Explained Variance Score: -0.23\n"
     ]
    }
   ],
   "source": [
    "evs = explained_variance_score(y_test, y_pred)\n",
    "print(f\"Explained Variance Score: {evs:.2f}\")"
   ]
  },
  {
   "cell_type": "code",
   "execution_count": 31,
   "id": "8f148f6a",
   "metadata": {},
   "outputs": [],
   "source": [
    "model_summary = pd.DataFrame({\n",
    "    'Metric': ['Mean Absolute Error', 'Mean Squared Error', 'Root Mean Squared Error', 'R-squared',\n",
    "                'Coefficient of Determination', 'Explained Variance Score',\n",
    "               'Median Absolute Error'],\n",
    "    'Value': [mae, mse, rmse, r2, cod, evs, medae]\n",
    "})"
   ]
  },
  {
   "cell_type": "code",
   "execution_count": 32,
   "id": "e0f81dfe",
   "metadata": {},
   "outputs": [],
   "source": [
    "model_summary.to_excel('Model_Summary.xlsx', index=False,float_format='%.2f')"
   ]
  },
  {
   "cell_type": "code",
   "execution_count": null,
   "id": "6f6a5b9f",
   "metadata": {},
   "outputs": [],
   "source": []
  }
 ],
 "metadata": {
  "kernelspec": {
   "display_name": "Python 3 (ipykernel)",
   "language": "python",
   "name": "python3"
  },
  "language_info": {
   "codemirror_mode": {
    "name": "ipython",
    "version": 3
   },
   "file_extension": ".py",
   "mimetype": "text/x-python",
   "name": "python",
   "nbconvert_exporter": "python",
   "pygments_lexer": "ipython3",
   "version": "3.11.4"
  }
 },
 "nbformat": 4,
 "nbformat_minor": 5
}
