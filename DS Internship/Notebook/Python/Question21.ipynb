{
 "cells": [
  {
   "cell_type": "code",
   "execution_count": 29,
   "id": "5d183d42",
   "metadata": {},
   "outputs": [],
   "source": [
    "import math"
   ]
  },
  {
   "cell_type": "code",
   "execution_count": 35,
   "id": "aa757e93",
   "metadata": {},
   "outputs": [
    {
     "name": "stdout",
     "output_type": "stream",
     "text": [
      "234\n"
     ]
    }
   ],
   "source": [
    "armstrong=int(input())\n",
    "copy1=armstrong\n",
    "copy2=armstrong\n",
    "digits=0"
   ]
  },
  {
   "cell_type": "code",
   "execution_count": 36,
   "id": "06f00750",
   "metadata": {},
   "outputs": [],
   "source": [
    "while(copy1>0):\n",
    "    copy1//=10\n",
    "    digits+=1"
   ]
  },
  {
   "cell_type": "code",
   "execution_count": 37,
   "id": "c021c623",
   "metadata": {},
   "outputs": [],
   "source": [
    "sum=0"
   ]
  },
  {
   "cell_type": "code",
   "execution_count": 38,
   "id": "4b8d9fc5",
   "metadata": {},
   "outputs": [],
   "source": [
    "while(copy2>0):\n",
    "    number=copy2%10\n",
    "    sum+=(pow(number,digits))\n",
    "    copy2//=10"
   ]
  },
  {
   "cell_type": "code",
   "execution_count": 39,
   "id": "7cc6ce92",
   "metadata": {},
   "outputs": [
    {
     "name": "stdout",
     "output_type": "stream",
     "text": [
      "Not an Armstrong Number\n"
     ]
    }
   ],
   "source": [
    "if(sum==armstrong):\n",
    "    print(\"Armstrong Number\")\n",
    "else:\n",
    "    print(\"Not an Armstrong Number\")"
   ]
  },
  {
   "cell_type": "code",
   "execution_count": null,
   "id": "5bce3d3d",
   "metadata": {},
   "outputs": [],
   "source": []
  }
 ],
 "metadata": {
  "kernelspec": {
   "display_name": "Python 3 (ipykernel)",
   "language": "python",
   "name": "python3"
  },
  "language_info": {
   "codemirror_mode": {
    "name": "ipython",
    "version": 3
   },
   "file_extension": ".py",
   "mimetype": "text/x-python",
   "name": "python",
   "nbconvert_exporter": "python",
   "pygments_lexer": "ipython3",
   "version": "3.11.4"
  }
 },
 "nbformat": 4,
 "nbformat_minor": 5
}
