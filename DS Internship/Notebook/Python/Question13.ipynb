{
 "cells": [
  {
   "cell_type": "code",
   "execution_count": 5,
   "id": "dd282d50",
   "metadata": {},
   "outputs": [
    {
     "name": "stdout",
     "output_type": "stream",
     "text": [
      "1001101010010\n"
     ]
    }
   ],
   "source": [
    "k=input()\n",
    "sum=0"
   ]
  },
  {
   "cell_type": "code",
   "execution_count": 6,
   "id": "c7e6a1d6",
   "metadata": {},
   "outputs": [],
   "source": [
    "for i in range(0,len(k)-1):\n",
    "   for j in range(i+1,len(k)):\n",
    "       if(k[i]=='1' and k[j]=='1'):\n",
    "           sum+=1"
   ]
  },
  {
   "cell_type": "code",
   "execution_count": 7,
   "id": "88ba078c",
   "metadata": {},
   "outputs": [],
   "source": [
    "if(k[j]=='1'):\n",
    "   sum-=1"
   ]
  },
  {
   "cell_type": "code",
   "execution_count": 8,
   "id": "6b31c15c",
   "metadata": {},
   "outputs": [
    {
     "name": "stdout",
     "output_type": "stream",
     "text": [
      "15\n"
     ]
    }
   ],
   "source": [
    "print(sum)"
   ]
  },
  {
   "cell_type": "code",
   "execution_count": null,
   "id": "a9b37160",
   "metadata": {},
   "outputs": [],
   "source": []
  }
 ],
 "metadata": {
  "kernelspec": {
   "display_name": "Python 3 (ipykernel)",
   "language": "python",
   "name": "python3"
  },
  "language_info": {
   "codemirror_mode": {
    "name": "ipython",
    "version": 3
   },
   "file_extension": ".py",
   "mimetype": "text/x-python",
   "name": "python",
   "nbconvert_exporter": "python",
   "pygments_lexer": "ipython3",
   "version": "3.11.4"
  }
 },
 "nbformat": 4,
 "nbformat_minor": 5
}
