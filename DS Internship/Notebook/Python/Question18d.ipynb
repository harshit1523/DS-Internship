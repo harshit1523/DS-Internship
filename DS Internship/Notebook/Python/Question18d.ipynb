{
 "cells": [
  {
   "cell_type": "code",
   "execution_count": 16,
   "id": "a9a6333f",
   "metadata": {},
   "outputs": [],
   "source": [
    "def pattern(rows):\n",
    "    pat=\"\"\n",
    "    for i in range(0,rows):    \n",
    "        for j in range(0,rows):     \n",
    "            if ((j == 1 and i != 0 and i != rows-1) or ((i == 0 or i == rows-1) and j > 1 and j < rows-2) or (i == ((rows-1)/2) and j > rows-5 and j < rows-1) or (j == rows-2 and i != 0 and i != rows-1 and i >=((rows-1)/2))):  \n",
    "                pat=pat+\"*\"   \n",
    "            else:      \n",
    "                pat=pat+\" \"   \n",
    "        pat=pat+\"\\n\"   \n",
    "    return pat"
   ]
  },
  {
   "cell_type": "code",
   "execution_count": 17,
   "id": "da1ec49d",
   "metadata": {},
   "outputs": [
    {
     "name": "stdout",
     "output_type": "stream",
     "text": [
      "7\n"
     ]
    }
   ],
   "source": [
    "rows=int(input())"
   ]
  },
  {
   "cell_type": "code",
   "execution_count": 18,
   "id": "7a89fac9",
   "metadata": {},
   "outputs": [
    {
     "name": "stdout",
     "output_type": "stream",
     "text": [
      "  ***  \n",
      " *     \n",
      " *     \n",
      " * *** \n",
      " *   * \n",
      " *   * \n",
      "  ***  \n",
      "\n"
     ]
    }
   ],
   "source": [
    "print(pattern(rows))"
   ]
  },
  {
   "cell_type": "code",
   "execution_count": null,
   "id": "9d5e312a",
   "metadata": {},
   "outputs": [],
   "source": []
  }
 ],
 "metadata": {
  "kernelspec": {
   "display_name": "Python 3 (ipykernel)",
   "language": "python",
   "name": "python3"
  },
  "language_info": {
   "codemirror_mode": {
    "name": "ipython",
    "version": 3
   },
   "file_extension": ".py",
   "mimetype": "text/x-python",
   "name": "python",
   "nbconvert_exporter": "python",
   "pygments_lexer": "ipython3",
   "version": "3.11.4"
  }
 },
 "nbformat": 4,
 "nbformat_minor": 5
}
