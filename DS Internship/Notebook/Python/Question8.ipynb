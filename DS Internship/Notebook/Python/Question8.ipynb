{
 "cells": [
  {
   "cell_type": "code",
   "execution_count": 7,
   "id": "280dada8",
   "metadata": {},
   "outputs": [
    {
     "name": "stdout",
     "output_type": "stream",
     "text": [
      "4\n"
     ]
    }
   ],
   "source": [
    "h=int(input())\n",
    "r=[]"
   ]
  },
  {
   "cell_type": "code",
   "execution_count": 8,
   "id": "1bbe7b0c",
   "metadata": {},
   "outputs": [
    {
     "name": "stdout",
     "output_type": "stream",
     "text": [
      "ABd1234@1\n",
      "a F1#\n",
      "2w3E*\n",
      "2We3345\n"
     ]
    }
   ],
   "source": [
    "for i in range(0,h):\n",
    "   lower=False\n",
    "   upper=False\n",
    "   no=False\n",
    "   special=False\n",
    "   max=False\n",
    "   min=False\n",
    "   s=input()\n",
    "   l=len(s)\n",
    "   if(6>l or l>12):\n",
    "       continue\n",
    "   for a in s:\n",
    "       if(lower==False):\n",
    "           lower=a.islower()\n",
    "       if(upper==False):\n",
    "           upper=a.isupper()\n",
    "       if(no==False):\n",
    "           no=a.isnumeric()\n",
    "       if(special==False):\n",
    "           if(a=='@' or a=='$' or a=='#'):\n",
    "               special=True\n",
    "   if(upper==True and lower==True and no==True and special==True):\n",
    "       r.append(s)"
   ]
  },
  {
   "cell_type": "code",
   "execution_count": 9,
   "id": "5d14a90a",
   "metadata": {},
   "outputs": [
    {
     "name": "stdout",
     "output_type": "stream",
     "text": [
      "ABd1234@1 "
     ]
    }
   ],
   "source": [
    "for k in r:\n",
    "   print(k,end=\" \")"
   ]
  },
  {
   "cell_type": "code",
   "execution_count": null,
   "id": "64c22e76",
   "metadata": {},
   "outputs": [],
   "source": []
  }
 ],
 "metadata": {
  "kernelspec": {
   "display_name": "Python 3 (ipykernel)",
   "language": "python",
   "name": "python3"
  },
  "language_info": {
   "codemirror_mode": {
    "name": "ipython",
    "version": 3
   },
   "file_extension": ".py",
   "mimetype": "text/x-python",
   "name": "python",
   "nbconvert_exporter": "python",
   "pygments_lexer": "ipython3",
   "version": "3.11.4"
  }
 },
 "nbformat": 4,
 "nbformat_minor": 5
}
