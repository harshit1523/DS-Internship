{
 "cells": [
  {
   "cell_type": "code",
   "execution_count": 1,
   "id": "a82e50ab",
   "metadata": {},
   "outputs": [
    {
     "name": "stdout",
     "output_type": "stream",
     "text": [
      "Hello world!\n"
     ]
    }
   ],
   "source": [
    "sentence=input()\n",
    "j=0\n",
    "k=0"
   ]
  },
  {
   "cell_type": "code",
   "execution_count": 2,
   "id": "f7838ac3",
   "metadata": {},
   "outputs": [],
   "source": [
    "for i in sentence:\n",
    "   if(i.isupper()):\n",
    "       j+=1\n",
    "   elif(i.islower()):\n",
    "       k+=1"
   ]
  },
  {
   "cell_type": "code",
   "execution_count": 3,
   "id": "e50a171b",
   "metadata": {},
   "outputs": [
    {
     "name": "stdout",
     "output_type": "stream",
     "text": [
      "UPPER CASE 1\n",
      "LOWER CASE 9\n"
     ]
    }
   ],
   "source": [
    "print(\"UPPER CASE {}\".format(j))\n",
    "print(\"LOWER CASE {}\".format(k))"
   ]
  },
  {
   "cell_type": "code",
   "execution_count": null,
   "id": "4a7720f5",
   "metadata": {},
   "outputs": [],
   "source": []
  }
 ],
 "metadata": {
  "kernelspec": {
   "display_name": "Python 3 (ipykernel)",
   "language": "python",
   "name": "python3"
  },
  "language_info": {
   "codemirror_mode": {
    "name": "ipython",
    "version": 3
   },
   "file_extension": ".py",
   "mimetype": "text/x-python",
   "name": "python",
   "nbconvert_exporter": "python",
   "pygments_lexer": "ipython3",
   "version": "3.11.4"
  }
 },
 "nbformat": 4,
 "nbformat_minor": 5
}
