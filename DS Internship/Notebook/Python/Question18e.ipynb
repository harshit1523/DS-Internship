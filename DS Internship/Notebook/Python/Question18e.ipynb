{
 "cells": [
  {
   "cell_type": "code",
   "execution_count": 10,
   "id": "18c1ae6a",
   "metadata": {},
   "outputs": [
    {
     "name": "stdout",
     "output_type": "stream",
     "text": [
      "5\n"
     ]
    }
   ],
   "source": [
    "row=int(input())"
   ]
  },
  {
   "cell_type": "code",
   "execution_count": 11,
   "id": "d6d3d41b",
   "metadata": {},
   "outputs": [
    {
     "name": "stdout",
     "output_type": "stream",
     "text": [
      "11111\n",
      "00100\n",
      "00100\n",
      "00100\n",
      "11111\n"
     ]
    }
   ],
   "source": [
    "a=1\n",
    "\n",
    "col=row\n",
    "while(a<row+1):\n",
    "    b=1\n",
    "    while(b<col+1):\n",
    "        if(a==1 or a==row):\n",
    "            print(\"1\",end=\"\")\n",
    "        else:\n",
    "            if(b==(row//2+1)):\n",
    "                print(\"1\",end=\"\")\n",
    "            else:\n",
    "                print(\"0\",end=\"\")\n",
    "        b+=1\n",
    "    a+=1\n",
    "    print()\n",
    "                \n",
    "    "
   ]
  },
  {
   "cell_type": "code",
   "execution_count": null,
   "id": "96f9961a",
   "metadata": {},
   "outputs": [],
   "source": []
  }
 ],
 "metadata": {
  "kernelspec": {
   "display_name": "Python 3 (ipykernel)",
   "language": "python",
   "name": "python3"
  },
  "language_info": {
   "codemirror_mode": {
    "name": "ipython",
    "version": 3
   },
   "file_extension": ".py",
   "mimetype": "text/x-python",
   "name": "python",
   "nbconvert_exporter": "python",
   "pygments_lexer": "ipython3",
   "version": "3.11.4"
  }
 },
 "nbformat": 4,
 "nbformat_minor": 5
}
