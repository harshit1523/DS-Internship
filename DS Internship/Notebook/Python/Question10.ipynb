{
 "cells": [
  {
   "cell_type": "code",
   "execution_count": 1,
   "id": "3c0e441d",
   "metadata": {},
   "outputs": [],
   "source": [
    "import math"
   ]
  },
  {
   "cell_type": "code",
   "execution_count": 2,
   "id": "7adf28ae",
   "metadata": {},
   "outputs": [
    {
     "name": "stdout",
     "output_type": "stream",
     "text": [
      "UP 5\n",
      "DOWN 3\n",
      "LEFT 3\n",
      "RIGHT 2\n"
     ]
    }
   ],
   "source": [
    "print(\"UP\",end=\" \")\n",
    "up=int(input())\n",
    "print(\"DOWN\",end=\" \")\n",
    "down=int(input())\n",
    "print(\"LEFT\",end=\" \")\n",
    "left=int(input())\n",
    "print(\"RIGHT\",end=\" \")\n",
    "right=int(input())"
   ]
  },
  {
   "cell_type": "code",
   "execution_count": 3,
   "id": "493d718e",
   "metadata": {},
   "outputs": [],
   "source": [
    "vertical=up-down\n",
    "horizontal=left-right\n",
    "hypo=math.sqrt((vertical*vertical)+(horizontal*horizontal))"
   ]
  },
  {
   "cell_type": "code",
   "execution_count": 4,
   "id": "18ec22bb",
   "metadata": {},
   "outputs": [
    {
     "name": "stdout",
     "output_type": "stream",
     "text": [
      "2\n"
     ]
    }
   ],
   "source": [
    "print(int(hypo))"
   ]
  },
  {
   "cell_type": "code",
   "execution_count": null,
   "id": "330d9c88",
   "metadata": {},
   "outputs": [],
   "source": []
  }
 ],
 "metadata": {
  "kernelspec": {
   "display_name": "Python 3 (ipykernel)",
   "language": "python",
   "name": "python3"
  },
  "language_info": {
   "codemirror_mode": {
    "name": "ipython",
    "version": 3
   },
   "file_extension": ".py",
   "mimetype": "text/x-python",
   "name": "python",
   "nbconvert_exporter": "python",
   "pygments_lexer": "ipython3",
   "version": "3.11.4"
  }
 },
 "nbformat": 4,
 "nbformat_minor": 5
}
