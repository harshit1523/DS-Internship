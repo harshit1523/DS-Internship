{
 "cells": [
  {
   "cell_type": "code",
   "execution_count": 17,
   "id": "a6bd9e9d",
   "metadata": {},
   "outputs": [],
   "source": [
    "k=[]"
   ]
  },
  {
   "cell_type": "code",
   "execution_count": 18,
   "id": "ebbd83c1",
   "metadata": {},
   "outputs": [
    {
     "name": "stdout",
     "output_type": "stream",
     "text": [
      "4\n"
     ]
    }
   ],
   "source": [
    "l=int(input())"
   ]
  },
  {
   "cell_type": "code",
   "execution_count": 19,
   "id": "118fcaa6",
   "metadata": {},
   "outputs": [
    {
     "name": "stdout",
     "output_type": "stream",
     "text": [
      "without\n",
      "hello\n",
      "bag\n",
      "world\n"
     ]
    }
   ],
   "source": [
    "for i in range(0,l):\n",
    "   s=input()\n",
    "   k.append(s)"
   ]
  },
  {
   "cell_type": "code",
   "execution_count": 20,
   "id": "3430632b",
   "metadata": {},
   "outputs": [],
   "source": [
    "k.sort()"
   ]
  },
  {
   "cell_type": "code",
   "execution_count": 21,
   "id": "1330465a",
   "metadata": {},
   "outputs": [],
   "source": [
    "t=tuple(k)"
   ]
  },
  {
   "cell_type": "code",
   "execution_count": 22,
   "id": "a4873914",
   "metadata": {},
   "outputs": [
    {
     "name": "stdout",
     "output_type": "stream",
     "text": [
      "('bag', 'hello', 'without', 'world')\n"
     ]
    }
   ],
   "source": [
    "print(t)"
   ]
  },
  {
   "cell_type": "code",
   "execution_count": null,
   "id": "c34f886b",
   "metadata": {},
   "outputs": [],
   "source": []
  }
 ],
 "metadata": {
  "kernelspec": {
   "display_name": "Python 3 (ipykernel)",
   "language": "python",
   "name": "python3"
  },
  "language_info": {
   "codemirror_mode": {
    "name": "ipython",
    "version": 3
   },
   "file_extension": ".py",
   "mimetype": "text/x-python",
   "name": "python",
   "nbconvert_exporter": "python",
   "pygments_lexer": "ipython3",
   "version": "3.11.4"
  }
 },
 "nbformat": 4,
 "nbformat_minor": 5
}
