{
 "cells": [
  {
   "cell_type": "code",
   "execution_count": 1,
   "id": "34304826",
   "metadata": {},
   "outputs": [
    {
     "name": "stdout",
     "output_type": "stream",
     "text": [
      "5\n"
     ]
    }
   ],
   "source": [
    "l=int(input())\n",
    "k=[]"
   ]
  },
  {
   "cell_type": "code",
   "execution_count": 2,
   "id": "46fdc34f",
   "metadata": {},
   "outputs": [
    {
     "name": "stdout",
     "output_type": "stream",
     "text": [
      "Tom\n",
      "19\n",
      "80\n",
      "John\n",
      "20\n",
      "90\n",
      "John\n",
      "17\n",
      "91\n",
      "John\n",
      "17\n",
      "93\n",
      "Json\n",
      "21\n",
      "85\n"
     ]
    }
   ],
   "source": [
    "for i in range(0,l):\n",
    "   name=input()\n",
    "   age=int(input())\n",
    "   height=int(input())\n",
    "   t=(name,age,height)\n",
    "   k.append(t)"
   ]
  },
  {
   "cell_type": "code",
   "execution_count": 3,
   "id": "bb44faaa",
   "metadata": {},
   "outputs": [
    {
     "name": "stdout",
     "output_type": "stream",
     "text": [
      "[('John', 17, 91), ('John', 17, 93), ('John', 20, 90), ('Json', 21, 85), ('Tom', 19, 80)]\n"
     ]
    }
   ],
   "source": [
    "k.sort()\n",
    "print(k)"
   ]
  },
  {
   "cell_type": "code",
   "execution_count": null,
   "id": "a3a04d2a",
   "metadata": {},
   "outputs": [],
   "source": []
  }
 ],
 "metadata": {
  "kernelspec": {
   "display_name": "Python 3 (ipykernel)",
   "language": "python",
   "name": "python3"
  },
  "language_info": {
   "codemirror_mode": {
    "name": "ipython",
    "version": 3
   },
   "file_extension": ".py",
   "mimetype": "text/x-python",
   "name": "python",
   "nbconvert_exporter": "python",
   "pygments_lexer": "ipython3",
   "version": "3.11.4"
  }
 },
 "nbformat": 4,
 "nbformat_minor": 5
}
