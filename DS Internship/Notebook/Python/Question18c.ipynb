{
 "cells": [
  {
   "cell_type": "code",
   "execution_count": 21,
   "id": "8adbc5fd",
   "metadata": {},
   "outputs": [
    {
     "name": "stdout",
     "output_type": "stream",
     "text": [
      "4\n"
     ]
    }
   ],
   "source": [
    "p = int(input())\n",
    "k = 1"
   ]
  },
  {
   "cell_type": "code",
   "execution_count": 22,
   "id": "aa782860",
   "metadata": {},
   "outputs": [
    {
     "name": "stdout",
     "output_type": "stream",
     "text": [
      "1\n",
      "2*3\n",
      "4*5*6\n",
      "7*8*9*10\n",
      "4*5*6\n",
      "2*3\n",
      "1\n"
     ]
    }
   ],
   "source": [
    "for i in range(0, p):\n",
    "    for j in range(0, i + 1):\n",
    "        print(k, end=\"\")\n",
    "        k += 1\n",
    "        if (j + 1 != i + 1):\n",
    "            print(\"*\", end=\"\")\n",
    "    print()\n",
    "k=p\n",
    "for i in range(p, p * 2 - 1):\n",
    "    for j in range(p * 2, i + 1, -1):\n",
    "        print(k, end=\"\")\n",
    "        if (j != i + 2):\n",
    "            print(\"*\", end=\"\")\n",
    "        k += 1\n",
    "    if(p%2==0):\n",
    "        k=k*2//5\n",
    "    else:\n",
    "        k=k*2//5\n",
    "    print()"
   ]
  },
  {
   "cell_type": "code",
   "execution_count": null,
   "id": "c08280d7",
   "metadata": {},
   "outputs": [],
   "source": []
  }
 ],
 "metadata": {
  "kernelspec": {
   "display_name": "Python 3 (ipykernel)",
   "language": "python",
   "name": "python3"
  },
  "language_info": {
   "codemirror_mode": {
    "name": "ipython",
    "version": 3
   },
   "file_extension": ".py",
   "mimetype": "text/x-python",
   "name": "python",
   "nbconvert_exporter": "python",
   "pygments_lexer": "ipython3",
   "version": "3.11.4"
  }
 },
 "nbformat": 4,
 "nbformat_minor": 5
}
