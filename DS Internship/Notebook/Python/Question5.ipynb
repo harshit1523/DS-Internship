{
 "cells": [
  {
   "cell_type": "code",
   "execution_count": 1,
   "id": "73c6d78e",
   "metadata": {},
   "outputs": [
    {
     "name": "stdout",
     "output_type": "stream",
     "text": [
      "hello world! 123\n"
     ]
    }
   ],
   "source": [
    "sentence=input()"
   ]
  },
  {
   "cell_type": "code",
   "execution_count": 2,
   "id": "ff376846",
   "metadata": {},
   "outputs": [],
   "source": [
    "j=0\n",
    "k=0"
   ]
  },
  {
   "cell_type": "code",
   "execution_count": 3,
   "id": "89f2e5c6",
   "metadata": {},
   "outputs": [],
   "source": [
    "for i in sentence:\n",
    "   if(i.isalpha()):\n",
    "       j+=1\n",
    "   elif(i.isdigit()):\n",
    "       k+=1"
   ]
  },
  {
   "cell_type": "code",
   "execution_count": 4,
   "id": "474d7942",
   "metadata": {},
   "outputs": [
    {
     "name": "stdout",
     "output_type": "stream",
     "text": [
      "LETTERS 10\n",
      "DIGITS 3\n"
     ]
    }
   ],
   "source": [
    "print(\"LETTERS {}\".format(j))\n",
    "print(\"DIGITS {}\".format(k))"
   ]
  },
  {
   "cell_type": "code",
   "execution_count": null,
   "id": "b6e30c4b",
   "metadata": {},
   "outputs": [],
   "source": []
  }
 ],
 "metadata": {
  "kernelspec": {
   "display_name": "Python 3 (ipykernel)",
   "language": "python",
   "name": "python3"
  },
  "language_info": {
   "codemirror_mode": {
    "name": "ipython",
    "version": 3
   },
   "file_extension": ".py",
   "mimetype": "text/x-python",
   "name": "python",
   "nbconvert_exporter": "python",
   "pygments_lexer": "ipython3",
   "version": "3.11.4"
  }
 },
 "nbformat": 4,
 "nbformat_minor": 5
}
