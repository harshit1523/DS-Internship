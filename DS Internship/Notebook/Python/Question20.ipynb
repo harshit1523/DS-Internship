{
 "cells": [
  {
   "cell_type": "code",
   "execution_count": 41,
   "id": "5463293c",
   "metadata": {},
   "outputs": [
    {
     "name": "stdout",
     "output_type": "stream",
     "text": [
      "Sugar level\n",
      "15\n",
      "Blood pressure\n",
      "32\n",
      "Heartbeat rate\n",
      "71\n",
      "weight\n",
      "65\n",
      "fat percentage\n",
      "10\n"
     ]
    }
   ],
   "source": [
    "dict1={}\n",
    "dict2={}\n",
    "slide=0\n",
    "normal_Sugar_level=56\n",
    "normal_Blood_pressure=120\n",
    "normal_Heartbeat_rate=45\n",
    "normal_weight=67\n",
    "normal_fat_percentage=6\n",
    "l=[normal_Sugar_level,normal_Blood_pressure,normal_Heartbeat_rate,normal_weight,normal_fat_percentage]\n",
    "while slide<5:\n",
    "    component=input()\n",
    "    level=int(input())\n",
    "    dict1[component]=level\n",
    "    dict2[component]=l[slide]\n",
    "    slide+=1\n"
   ]
  },
  {
   "cell_type": "code",
   "execution_count": 42,
   "id": "ae9feb53",
   "metadata": {},
   "outputs": [
    {
     "name": "stdout",
     "output_type": "stream",
     "text": [
      "Sugar Level: 56\n",
      "Blood Pressure: 120\n",
      "Heartbeat Rate: 45\n",
      "Weight: 67\n",
      "Fat percentage: 6\n",
      "{'Sugar level': -41, 'Blood pressure': -88, 'Heartbeat rate': 26, 'weight': -2, 'fat percentage': 4}\n",
      "Sugar level -41\n",
      "The Sugar level is 41 less than the ideal value.\n",
      "Blood pressure -88\n",
      "The Blood pressure is 88 less than the ideal value.\n",
      "Heartbeat rate 26\n",
      "The Heartbeat rate is 26 more than the ideal value.\n",
      "weight -2\n",
      "The weight is 2 less than the ideal value.\n",
      "fat percentage 4\n",
      "The fat percentage is 4 more than the ideal value.\n"
     ]
    }
   ],
   "source": [
    "print(f\"Sugar Level: {normal_Sugar_level}\")\n",
    "print(f\"Blood Pressure: {normal_Blood_pressure}\")\n",
    "print(f\"Heartbeat Rate: {normal_Heartbeat_rate}\")\n",
    "print(f\"Weight: {normal_weight}\")\n",
    "print(f\"Fat percentage: {normal_fat_percentage}\")\n",
    "dict3 = {key: dict1[key] - dict2[key] for key in dict1}\n",
    "print(dict3)\n",
    "for key in dict3:\n",
    "    print(key,dict3[key])\n",
    "    if(dict3[key]<0):\n",
    "        a=-dict3[key]\n",
    "        print(f\"The {key} is {a} less than the ideal value.\")\n",
    "    else:\n",
    "        a=dict3[key]\n",
    "        print(f\"The {key} is {a} more than the ideal value.\")"
   ]
  },
  {
   "cell_type": "code",
   "execution_count": null,
   "id": "62db2724",
   "metadata": {},
   "outputs": [],
   "source": []
  }
 ],
 "metadata": {
  "kernelspec": {
   "display_name": "Python 3 (ipykernel)",
   "language": "python",
   "name": "python3"
  },
  "language_info": {
   "codemirror_mode": {
    "name": "ipython",
    "version": 3
   },
   "file_extension": ".py",
   "mimetype": "text/x-python",
   "name": "python",
   "nbconvert_exporter": "python",
   "pygments_lexer": "ipython3",
   "version": "3.11.4"
  }
 },
 "nbformat": 4,
 "nbformat_minor": 5
}
