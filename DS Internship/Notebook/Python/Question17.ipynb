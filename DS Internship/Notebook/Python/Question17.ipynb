{
 "cells": [
  {
   "cell_type": "code",
   "execution_count": 86,
   "id": "de097ac0",
   "metadata": {},
   "outputs": [
    {
     "name": "stdout",
     "output_type": "stream",
     "text": [
      "fewfjk12.@de_d\n"
     ]
    }
   ],
   "source": [
    "email=input()"
   ]
  },
  {
   "cell_type": "code",
   "execution_count": 87,
   "id": "e7fdb902",
   "metadata": {},
   "outputs": [],
   "source": [
    "symbol1=0\n",
    "upper=0\n",
    "flag=False\n",
    "count=0\n",
    "for a in email:\n",
    "    if(a.isnumeric() or a=='_' or a=='.' or a.islower() or a=='@'):\n",
    "            flag=True\n",
    "            if(a=='@'):\n",
    "                count+=1\n",
    "    else:\n",
    "        flag=False\n",
    "        break"
   ]
  },
  {
   "cell_type": "code",
   "execution_count": 88,
   "id": "d2bf35ae",
   "metadata": {},
   "outputs": [
    {
     "name": "stdout",
     "output_type": "stream",
     "text": [
      "Valid\n"
     ]
    }
   ],
   "source": [
    "if(flag==True and count==1):\n",
    "    print(\"Valid\")\n",
    "else:\n",
    "    print(\"Invalid\")"
   ]
  },
  {
   "cell_type": "code",
   "execution_count": null,
   "id": "e450a9d7",
   "metadata": {},
   "outputs": [],
   "source": []
  }
 ],
 "metadata": {
  "kernelspec": {
   "display_name": "Python 3 (ipykernel)",
   "language": "python",
   "name": "python3"
  },
  "language_info": {
   "codemirror_mode": {
    "name": "ipython",
    "version": 3
   },
   "file_extension": ".py",
   "mimetype": "text/x-python",
   "name": "python",
   "nbconvert_exporter": "python",
   "pygments_lexer": "ipython3",
   "version": "3.11.4"
  }
 },
 "nbformat": 4,
 "nbformat_minor": 5
}
