{
 "cells": [
  {
   "cell_type": "code",
   "execution_count": 43,
   "id": "36f83092",
   "metadata": {},
   "outputs": [],
   "source": [
    "def find_pairs_with_sum_nine(input_string):\n",
    "    pairs = []\n",
    "    current_alphabet = None\n",
    "    sum_numbers = 0\n",
    "    seen_digits = \"\"\n",
    "\n",
    "    for char in input_string:\n",
    "        if char.isalpha():\n",
    "            if current_alphabet:\n",
    "                if sum_numbers == 9:\n",
    "                    pairs.append((current_alphabet, char))\n",
    "                sum_numbers = 0\n",
    "                seen_digits = \"\"\n",
    "            current_alphabet = char\n",
    "        elif char.isdigit():\n",
    "            sum_numbers += int(char)\n",
    "            seen_digits += char\n",
    "            while sum_numbers > 9 and seen_digits:\n",
    "                sum_numbers -= int(seen_digits[0])\n",
    "                seen_digits = seen_digits[1:]\n",
    "\n",
    "    return pairs\n",
    "\n",
    "\n",
    "\n",
    "\n",
    "\n"
   ]
  },
  {
   "cell_type": "code",
   "execution_count": 46,
   "id": "6de4df53",
   "metadata": {},
   "outputs": [
    {
     "name": "stdout",
     "output_type": "stream",
     "text": [
      "a54b12c\n"
     ]
    }
   ],
   "source": [
    "string=input()"
   ]
  },
  {
   "cell_type": "code",
   "execution_count": 47,
   "id": "57a12650",
   "metadata": {},
   "outputs": [
    {
     "name": "stdout",
     "output_type": "stream",
     "text": [
      "[('a', 'b')]\n"
     ]
    }
   ],
   "source": [
    "print(find_pairs_with_sum_nine(string))"
   ]
  },
  {
   "cell_type": "code",
   "execution_count": null,
   "id": "0342a10b",
   "metadata": {},
   "outputs": [],
   "source": []
  },
  {
   "cell_type": "code",
   "execution_count": null,
   "id": "03c07d15",
   "metadata": {},
   "outputs": [],
   "source": []
  }
 ],
 "metadata": {
  "kernelspec": {
   "display_name": "Python 3 (ipykernel)",
   "language": "python",
   "name": "python3"
  },
  "language_info": {
   "codemirror_mode": {
    "name": "ipython",
    "version": 3
   },
   "file_extension": ".py",
   "mimetype": "text/x-python",
   "name": "python",
   "nbconvert_exporter": "python",
   "pygments_lexer": "ipython3",
   "version": "3.11.4"
  }
 },
 "nbformat": 4,
 "nbformat_minor": 5
}
