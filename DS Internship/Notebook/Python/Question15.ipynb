{
 "cells": [
  {
   "cell_type": "code",
   "execution_count": 14,
   "id": "2b683b61",
   "metadata": {},
   "outputs": [
    {
     "name": "stdout",
     "output_type": "stream",
     "text": [
      "12\n",
      "4\n"
     ]
    }
   ],
   "source": [
    "n=int(input())\n",
    "m=int(input())"
   ]
  },
  {
   "cell_type": "code",
   "execution_count": 17,
   "id": "12d78ce0",
   "metadata": {},
   "outputs": [],
   "source": [
    "import math\n",
    "ways = math.comb(n-m+ 1,m)"
   ]
  },
  {
   "cell_type": "code",
   "execution_count": 18,
   "id": "4db496e2",
   "metadata": {},
   "outputs": [
    {
     "name": "stdout",
     "output_type": "stream",
     "text": [
      "126\n"
     ]
    }
   ],
   "source": [
    "print(ways)"
   ]
  },
  {
   "cell_type": "code",
   "execution_count": null,
   "id": "d601c3cd",
   "metadata": {},
   "outputs": [],
   "source": []
  }
 ],
 "metadata": {
  "kernelspec": {
   "display_name": "Python 3 (ipykernel)",
   "language": "python",
   "name": "python3"
  },
  "language_info": {
   "codemirror_mode": {
    "name": "ipython",
    "version": 3
   },
   "file_extension": ".py",
   "mimetype": "text/x-python",
   "name": "python",
   "nbconvert_exporter": "python",
   "pygments_lexer": "ipython3",
   "version": "3.11.4"
  }
 },
 "nbformat": 4,
 "nbformat_minor": 5
}
