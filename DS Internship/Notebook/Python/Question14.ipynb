{
 "cells": [
  {
   "cell_type": "code",
   "execution_count": 48,
   "id": "642651d1",
   "metadata": {},
   "outputs": [
    {
     "name": "stdout",
     "output_type": "stream",
     "text": [
      "10\n",
      "1\n",
      "2\n",
      "5\n",
      "10\n",
      "20\n",
      "50\n",
      "100\n",
      "200\n",
      "500\n",
      "2000\n",
      "210\n",
      "valid_currency: [1, 2, 5, 10, 20, 50, 100, 200, 500, 2000]\n",
      "Money: 210\n"
     ]
    }
   ],
   "source": [
    "l=int(input())\n",
    "valid_currency=[]\n",
    "for a in range(0,l):\n",
    "    valid_currency.append(int(input()))\n",
    "money=int(input())\n",
    "print(f\"valid_currency: {valid_currency}\")\n",
    "print(f\"Money: {money}\")"
   ]
  },
  {
   "cell_type": "code",
   "execution_count": 49,
   "id": "49a161b9",
   "metadata": {},
   "outputs": [
    {
     "name": "stdout",
     "output_type": "stream",
     "text": [
      "200-1\n",
      "10-1\n"
     ]
    }
   ],
   "source": [
    "valid_currency.sort(reverse=True)\n",
    "for a in valid_currency:\n",
    "    sum=0\n",
    "    while(money>=a):\n",
    "        sum+=1\n",
    "        money=money-a\n",
    "    if(sum>0):\n",
    "        print(f\"{a}-{sum}\")"
   ]
  },
  {
   "cell_type": "code",
   "execution_count": null,
   "id": "41c67b20",
   "metadata": {},
   "outputs": [],
   "source": []
  },
  {
   "cell_type": "code",
   "execution_count": null,
   "id": "5b363fdd",
   "metadata": {},
   "outputs": [],
   "source": []
  }
 ],
 "metadata": {
  "kernelspec": {
   "display_name": "Python 3 (ipykernel)",
   "language": "python",
   "name": "python3"
  },
  "language_info": {
   "codemirror_mode": {
    "name": "ipython",
    "version": 3
   },
   "file_extension": ".py",
   "mimetype": "text/x-python",
   "name": "python",
   "nbconvert_exporter": "python",
   "pygments_lexer": "ipython3",
   "version": "3.11.4"
  }
 },
 "nbformat": 4,
 "nbformat_minor": 5
}
