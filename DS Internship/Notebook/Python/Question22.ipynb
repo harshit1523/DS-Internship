{
 "cells": [
  {
   "cell_type": "code",
   "execution_count": 28,
   "id": "daddcb6b",
   "metadata": {},
   "outputs": [
    {
     "name": "stdout",
     "output_type": "stream",
     "text": [
      "20\n"
     ]
    }
   ],
   "source": [
    "dec=int(input())"
   ]
  },
  {
   "cell_type": "code",
   "execution_count": 29,
   "id": "8aa80778",
   "metadata": {},
   "outputs": [],
   "source": [
    "a=''"
   ]
  },
  {
   "cell_type": "code",
   "execution_count": 30,
   "id": "36f1ac0e",
   "metadata": {},
   "outputs": [],
   "source": [
    "while dec>0:\n",
    "    if(dec%2==1):\n",
    "        a+='1'\n",
    "    else:\n",
    "        a+='0'\n",
    "    dec//=2"
   ]
  },
  {
   "cell_type": "code",
   "execution_count": 31,
   "id": "e5e9f0b5",
   "metadata": {},
   "outputs": [
    {
     "name": "stdout",
     "output_type": "stream",
     "text": [
      "10100\n"
     ]
    }
   ],
   "source": [
    "a=a[::-1]\n",
    "print(a)"
   ]
  },
  {
   "cell_type": "code",
   "execution_count": null,
   "id": "4070bdfe",
   "metadata": {},
   "outputs": [],
   "source": []
  }
 ],
 "metadata": {
  "kernelspec": {
   "display_name": "Python 3 (ipykernel)",
   "language": "python",
   "name": "python3"
  },
  "language_info": {
   "codemirror_mode": {
    "name": "ipython",
    "version": 3
   },
   "file_extension": ".py",
   "mimetype": "text/x-python",
   "name": "python",
   "nbconvert_exporter": "python",
   "pygments_lexer": "ipython3",
   "version": "3.11.4"
  }
 },
 "nbformat": 4,
 "nbformat_minor": 5
}
