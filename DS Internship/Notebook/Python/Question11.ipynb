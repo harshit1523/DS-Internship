{
 "cells": [
  {
   "cell_type": "code",
   "execution_count": 4,
   "id": "bc7fbc1f",
   "metadata": {},
   "outputs": [
    {
     "name": "stdout",
     "output_type": "stream",
     "text": [
      "Aabbcdeefffaabbcc\n"
     ]
    }
   ],
   "source": [
    "s=input()"
   ]
  },
  {
   "cell_type": "code",
   "execution_count": 5,
   "id": "cb93924c",
   "metadata": {},
   "outputs": [],
   "source": [
    "t=s.casefold()\n",
    "j=1"
   ]
  },
  {
   "cell_type": "code",
   "execution_count": 8,
   "id": "794aca79",
   "metadata": {},
   "outputs": [
    {
     "name": "stdout",
     "output_type": "stream",
     "text": [
      "a3b2c1d1e2f3a2b2c2\n"
     ]
    }
   ],
   "source": [
    "for i in range(0,len(t)-1):\n",
    "    if(t[i]==t[i+1]):\n",
    "        j+=1\n",
    "    else:\n",
    "        print(\"{}{}\".format(t[i],j),end=\"\")\n",
    "        j=1\n",
    "print(\"{}{}\".format(t[len(t)-1],j))"
   ]
  },
  {
   "cell_type": "code",
   "execution_count": null,
   "id": "11a41112",
   "metadata": {},
   "outputs": [],
   "source": []
  }
 ],
 "metadata": {
  "kernelspec": {
   "display_name": "Python 3 (ipykernel)",
   "language": "python",
   "name": "python3"
  },
  "language_info": {
   "codemirror_mode": {
    "name": "ipython",
    "version": 3
   },
   "file_extension": ".py",
   "mimetype": "text/x-python",
   "name": "python",
   "nbconvert_exporter": "python",
   "pygments_lexer": "ipython3",
   "version": "3.11.4"
  }
 },
 "nbformat": 4,
 "nbformat_minor": 5
}
