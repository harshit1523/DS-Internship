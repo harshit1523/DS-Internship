{
 "cells": [
  {
   "cell_type": "code",
   "execution_count": 15,
   "id": "b95439af",
   "metadata": {},
   "outputs": [],
   "source": [
    "score1=1\n",
    "score2=1\n",
    "result=\"\""
   ]
  },
  {
   "cell_type": "code",
   "execution_count": 16,
   "id": "cf4292fe",
   "metadata": {},
   "outputs": [
    {
     "name": "stdout",
     "output_type": "stream",
     "text": [
      "Player A: Stone\n",
      "Player B: Stone\n",
      "Result: DRAW\n",
      "Player A: Paper\n",
      "Player B: Scissor\n",
      "Result: Player B wins\n",
      "Player A: Stone\n",
      "Player B: Paper\n",
      "Result: Player B wins\n",
      "Player A: Paper\n",
      "Player B: Paper\n",
      "Result: DRAW\n",
      "Player A: Stone\n",
      "Player B: Scissor\n",
      "Result: Player A wins\n",
      "Player A: Paper\n",
      "Player B: Stone\n",
      "Result: Player A wins\n",
      "Player A: Scissor\n",
      "Player B: Paper\n",
      "Result: Player A wins\n",
      "Player A: Stone\n",
      "Player B: Scissor\n",
      "Result: Player A wins\n",
      "Player A: Stone\n",
      "Player B: Stone\n",
      "Result: DRAW\n",
      "Player A: Stone\n",
      "Player B: Paper\n",
      "Result: Player B wins\n",
      "Player A: Scissor\n",
      "Player B: Paper\n",
      "Result: Player A wins\n"
     ]
    }
   ],
   "source": [
    "while score1<=5 and score2<=5:\n",
    "    print(\"Player A: \",end=\"\")\n",
    "    playerA=input()\n",
    "    print(\"Player B: \",end=\"\")\n",
    "    playerB=input()\n",
    "    if(playerA==playerB):\n",
    "        result=\"DRAW\"\n",
    "        print(f\"Result: {result}\")\n",
    "    elif((playerA=='Stone' and playerB=='Scissor') or (playerA=='Paper' and playerB=='Stone') or (playerA=='Scissor' and playerB=='Paper')):\n",
    "        result=\"Player A wins\"\n",
    "        score1+=1\n",
    "        print(f\"Result: {result}\")\n",
    "        \n",
    "    else:\n",
    "        result=\"Player B wins\"\n",
    "        score2+=1\n",
    "        print(f\"Result: {result}\")"
   ]
  },
  {
   "cell_type": "code",
   "execution_count": null,
   "id": "ab3ca935",
   "metadata": {},
   "outputs": [],
   "source": []
  }
 ],
 "metadata": {
  "kernelspec": {
   "display_name": "Python 3 (ipykernel)",
   "language": "python",
   "name": "python3"
  },
  "language_info": {
   "codemirror_mode": {
    "name": "ipython",
    "version": 3
   },
   "file_extension": ".py",
   "mimetype": "text/x-python",
   "name": "python",
   "nbconvert_exporter": "python",
   "pygments_lexer": "ipython3",
   "version": "3.11.4"
  }
 },
 "nbformat": 4,
 "nbformat_minor": 5
}
