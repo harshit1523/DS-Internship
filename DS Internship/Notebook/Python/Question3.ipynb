{
 "cells": [
  {
   "cell_type": "code",
   "execution_count": 5,
   "id": "6598f3c6",
   "metadata": {},
   "outputs": [
    {
     "name": "stdout",
     "output_type": "stream",
     "text": [
      "10\n"
     ]
    }
   ],
   "source": [
    "l=int(input())"
   ]
  },
  {
   "cell_type": "code",
   "execution_count": 6,
   "id": "8de050e8",
   "metadata": {},
   "outputs": [],
   "source": [
    "t=[]"
   ]
  },
  {
   "cell_type": "code",
   "execution_count": 7,
   "id": "0ea1378a",
   "metadata": {},
   "outputs": [
    {
     "name": "stdout",
     "output_type": "stream",
     "text": [
      "hello\n",
      "world\n",
      "and\n",
      "practice\n",
      "makes\n",
      "perfect\n",
      "and\n",
      "hello\n",
      "world\n",
      "again\n"
     ]
    }
   ],
   "source": [
    "for i in range(0,l):\n",
    "    t.append(input())"
   ]
  },
  {
   "cell_type": "code",
   "execution_count": 8,
   "id": "b2c6aafb",
   "metadata": {},
   "outputs": [],
   "source": [
    "t.sort()"
   ]
  },
  {
   "cell_type": "code",
   "execution_count": 9,
   "id": "eee1bf58",
   "metadata": {},
   "outputs": [],
   "source": [
    "for a in t:\n",
    "   g=t.index(a)+1\n",
    "   if a==t[g]:\n",
    "       t.remove(t[g])"
   ]
  },
  {
   "cell_type": "code",
   "execution_count": 10,
   "id": "5d1dd2df",
   "metadata": {},
   "outputs": [
    {
     "name": "stdout",
     "output_type": "stream",
     "text": [
      "again and hello makes perfect practice world "
     ]
    }
   ],
   "source": [
    "for a in t:\n",
    "   print(a,end=\" \")"
   ]
  },
  {
   "cell_type": "code",
   "execution_count": null,
   "id": "875aa376",
   "metadata": {},
   "outputs": [],
   "source": []
  }
 ],
 "metadata": {
  "kernelspec": {
   "display_name": "Python 3 (ipykernel)",
   "language": "python",
   "name": "python3"
  },
  "language_info": {
   "codemirror_mode": {
    "name": "ipython",
    "version": 3
   },
   "file_extension": ".py",
   "mimetype": "text/x-python",
   "name": "python",
   "nbconvert_exporter": "python",
   "pygments_lexer": "ipython3",
   "version": "3.11.4"
  }
 },
 "nbformat": 4,
 "nbformat_minor": 5
}
