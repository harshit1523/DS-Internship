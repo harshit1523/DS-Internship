{
 "cells": [
  {
   "cell_type": "code",
   "execution_count": 31,
   "id": "ba270506",
   "metadata": {},
   "outputs": [
    {
     "name": "stdout",
     "output_type": "stream",
     "text": [
      "2\n",
      "happy\n",
      "3\n"
     ]
    }
   ],
   "source": [
    "order=int(input())\n",
    "string=input()\n",
    "times=int(input())"
   ]
  },
  {
   "cell_type": "code",
   "execution_count": 32,
   "id": "4c447154",
   "metadata": {},
   "outputs": [
    {
     "name": "stdout",
     "output_type": "stream",
     "text": [
      "yhapp\n",
      "pyhap\n",
      "ppyha\n"
     ]
    }
   ],
   "source": [
    "if(order==1):\n",
    "    while times>0:\n",
    "        a=string[1:]\n",
    "        b=string[0]\n",
    "        c=a+b\n",
    "        print(c)\n",
    "        string=c\n",
    "        times-=1\n",
    "else:\n",
    "    while times>0:\n",
    "        a=string[:-1]\n",
    "        b=string[-1]\n",
    "        c=b+a\n",
    "        print(c)\n",
    "        string=c\n",
    "        times-=1\n",
    "    \n",
    "        "
   ]
  },
  {
   "cell_type": "code",
   "execution_count": null,
   "id": "ccaa150a",
   "metadata": {},
   "outputs": [],
   "source": []
  }
 ],
 "metadata": {
  "kernelspec": {
   "display_name": "Python 3 (ipykernel)",
   "language": "python",
   "name": "python3"
  },
  "language_info": {
   "codemirror_mode": {
    "name": "ipython",
    "version": 3
   },
   "file_extension": ".py",
   "mimetype": "text/x-python",
   "name": "python",
   "nbconvert_exporter": "python",
   "pygments_lexer": "ipython3",
   "version": "3.11.4"
  }
 },
 "nbformat": 4,
 "nbformat_minor": 5
}
