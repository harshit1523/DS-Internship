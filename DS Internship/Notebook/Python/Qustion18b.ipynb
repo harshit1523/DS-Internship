{
 "cells": [
  {
   "cell_type": "code",
   "execution_count": 1,
   "id": "35e30329",
   "metadata": {},
   "outputs": [
    {
     "name": "stdout",
     "output_type": "stream",
     "text": [
      "4\n"
     ]
    }
   ],
   "source": [
    "p=int(input())"
   ]
  },
  {
   "cell_type": "code",
   "execution_count": 3,
   "id": "7ed7cf41",
   "metadata": {},
   "outputs": [
    {
     "name": "stdout",
     "output_type": "stream",
     "text": [
      "   * \n",
      "  * * \n",
      " * * * \n",
      "* * * * \n",
      " * * * \n",
      "  * * \n",
      "   * \n"
     ]
    }
   ],
   "source": [
    "for i in range(0,p):\n",
    "   for j in range(p-1,i,-1):\n",
    "       print(\" \",end=\"\")\n",
    "\n",
    "\n",
    "   for j in range(0,i+1):\n",
    "       print(\"{0}\".format(\"*\"),end=\" \")\n",
    "   print()\n",
    "for i in range(p,p*2-1):\n",
    "   for j in range(p,i+1):\n",
    "       print(\" \",end=\"\")\n",
    "   for j in range(p*2-1,i,-1):\n",
    "       print(\"{0}\".format(\"*\"),end=\" \")\n",
    "   print()"
   ]
  },
  {
   "cell_type": "code",
   "execution_count": null,
   "id": "d1eb1c5e",
   "metadata": {},
   "outputs": [],
   "source": []
  }
 ],
 "metadata": {
  "kernelspec": {
   "display_name": "Python 3 (ipykernel)",
   "language": "python",
   "name": "python3"
  },
  "language_info": {
   "codemirror_mode": {
    "name": "ipython",
    "version": 3
   },
   "file_extension": ".py",
   "mimetype": "text/x-python",
   "name": "python",
   "nbconvert_exporter": "python",
   "pygments_lexer": "ipython3",
   "version": "3.11.4"
  }
 },
 "nbformat": 4,
 "nbformat_minor": 5
}
