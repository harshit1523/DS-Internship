{
 "cells": [
  {
   "cell_type": "code",
   "execution_count": 1,
   "id": "2eba578e",
   "metadata": {},
   "outputs": [
    {
     "name": "stdout",
     "output_type": "stream",
     "text": [
      "4\n"
     ]
    }
   ],
   "source": [
    "p=int(input())\n",
    "k=0\n",
    "o=0"
   ]
  },
  {
   "cell_type": "code",
   "execution_count": 2,
   "id": "8fe1fa43",
   "metadata": {},
   "outputs": [
    {
     "name": "stdout",
     "output_type": "stream",
     "text": [
      "D 300\n",
      "D 300\n",
      "W 200\n",
      "D 100\n"
     ]
    }
   ],
   "source": [
    "for i in range(0,p):\n",
    "    s=input()\n",
    "    if(s[0]=='D'):\n",
    "        k+=int(s[2:])\n",
    "    else:\n",
    "        o-=int(s[2:])"
   ]
  },
  {
   "cell_type": "code",
   "execution_count": 3,
   "id": "47e675ca",
   "metadata": {},
   "outputs": [
    {
     "name": "stdout",
     "output_type": "stream",
     "text": [
      "500\n"
     ]
    }
   ],
   "source": [
    "print(o+k)"
   ]
  },
  {
   "cell_type": "code",
   "execution_count": null,
   "id": "0868135b",
   "metadata": {},
   "outputs": [],
   "source": []
  }
 ],
 "metadata": {
  "kernelspec": {
   "display_name": "Python 3 (ipykernel)",
   "language": "python",
   "name": "python3"
  },
  "language_info": {
   "codemirror_mode": {
    "name": "ipython",
    "version": 3
   },
   "file_extension": ".py",
   "mimetype": "text/x-python",
   "name": "python",
   "nbconvert_exporter": "python",
   "pygments_lexer": "ipython3",
   "version": "3.11.4"
  }
 },
 "nbformat": 4,
 "nbformat_minor": 5
}
