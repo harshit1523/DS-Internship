{
 "cells": [
  {
   "cell_type": "code",
   "execution_count": 12,
   "id": "89a5543f",
   "metadata": {},
   "outputs": [],
   "source": [
    "import pandas as pd\n",
    "df = pd.read_excel('C:\\\\Users\\\\Lenovo\\\\Desktop\\\\DS Internship\\\\Data\\\\Data Science\\\\SalesData.xlsx')"
   ]
  },
  {
   "cell_type": "code",
   "execution_count": 13,
   "id": "501bb1c5",
   "metadata": {},
   "outputs": [
    {
     "name": "stdout",
     "output_type": "stream",
     "text": [
      "           Item  Sale_amt\n",
      "0    Cell Phone    3375.0\n",
      "1          Desk     250.0\n",
      "2  Home Theater    2000.0\n",
      "3    Television    8386.0\n",
      "4   Video Games     936.0\n"
     ]
    }
   ],
   "source": [
    "minsales = df.groupby('Item')['Sale_amt'].min().reset_index()\n",
    "print(minsales)"
   ]
  },
  {
   "cell_type": "code",
   "execution_count": 14,
   "id": "0fd488f1",
   "metadata": {},
   "outputs": [
    {
     "name": "stdout",
     "output_type": "stream",
     "text": [
      "   Year   Region  Sale_amt\n",
      "0  2018  Central  479825.0\n",
      "1  2018     East  293780.0\n",
      "2  2018     West  105424.0\n",
      "3  2019  Central  349944.5\n",
      "4  2019     East   27227.0\n",
      "5  2019     West   49475.0\n"
     ]
    }
   ],
   "source": [
    "df['Year'] = df['OrderDate'].dt.year\n",
    "totalsales = df.groupby(['Year', 'Region'])['Sale_amt'].sum().reset_index()\n",
    "print(totalsales)"
   ]
  },
  {
   "cell_type": "code",
   "execution_count": 15,
   "id": "44019b97",
   "metadata": {},
   "outputs": [
    {
     "name": "stdout",
     "output_type": "stream",
     "text": [
      "    OrderDate  days_diff\n",
      "0  2018-01-06       2085\n",
      "1  2018-01-23       2068\n",
      "2  2018-02-09       2051\n",
      "3  2018-02-26       2034\n",
      "4  2018-03-15       2017\n",
      "5  2018-04-01       2000\n",
      "6  2018-04-18       1983\n",
      "7  2018-05-05       1966\n",
      "8  2018-05-22       1949\n",
      "9  2018-06-08       1932\n",
      "10 2018-06-25       1915\n",
      "11 2018-07-12       1898\n",
      "12 2018-07-29       1881\n",
      "13 2018-08-15       1864\n",
      "14 2018-09-01       1847\n",
      "15 2018-09-18       1830\n",
      "16 2018-10-05       1813\n",
      "17 2018-10-22       1796\n",
      "18 2018-11-08       1779\n",
      "19 2018-11-25       1762\n",
      "20 2018-12-12       1745\n",
      "21 2018-12-29       1728\n",
      "22 2019-01-15       1711\n",
      "23 2019-02-01       1694\n",
      "24 2019-02-18       1677\n",
      "25 2019-03-07       1660\n",
      "26 2019-03-24       1643\n",
      "27 2019-04-10       1626\n",
      "28 2019-04-27       1609\n",
      "29 2019-05-14       1592\n",
      "30 2019-05-31       1575\n",
      "31 2019-06-17       1558\n",
      "32 2019-07-04       1541\n",
      "33 2019-07-21       1524\n",
      "34 2019-08-07       1507\n",
      "35 2019-08-24       1490\n",
      "36 2019-09-10       1473\n",
      "37 2019-09-27       1456\n",
      "38 2019-10-14       1439\n",
      "39 2019-10-31       1422\n",
      "40 2019-11-17       1405\n",
      "41 2019-12-04       1388\n",
      "42 2019-12-21       1371\n"
     ]
    }
   ],
   "source": [
    "date = pd.to_datetime('2023-09-22')\n",
    "df['days_diff'] = (date - df['OrderDate']).dt.days\n",
    "print(df[['OrderDate', 'days_diff']])"
   ]
  },
  {
   "cell_type": "code",
   "execution_count": 16,
   "id": "9217b05d",
   "metadata": {},
   "outputs": [
    {
     "name": "stdout",
     "output_type": "stream",
     "text": [
      "   manager            list_of_salesmen\n",
      "0  Douglas      [Michael, Karen, John]\n",
      "1  Hermann       [Shelli, Luis, Sigal]\n",
      "2   Martha  [Alexander, Steven, Diana]\n",
      "3  Timothy            [David, Stephen]\n"
     ]
    }
   ],
   "source": [
    "mansales = df.groupby('Manager')['SalesMan'].unique().reset_index()\n",
    "mansales.columns = ['manager', 'list_of_salesmen']\n",
    "print(mansales)\n"
   ]
  },
  {
   "cell_type": "code",
   "execution_count": 17,
   "id": "c628be00",
   "metadata": {},
   "outputs": [
    {
     "name": "stdout",
     "output_type": "stream",
     "text": [
      "    Region  salesmen_count  total_sales\n",
      "0  Central               6     829769.5\n",
      "1     East               3     321007.0\n",
      "2     West               2     154899.0\n"
     ]
    }
   ],
   "source": [
    "region = df.groupby('Region').agg(salesmen_count=('SalesMan', 'nunique'), total_sales=('Sale_amt', 'sum')).reset_index()\n",
    "print(region)\n"
   ]
  },
  {
   "cell_type": "code",
   "execution_count": 18,
   "id": "33733f1f",
   "metadata": {},
   "outputs": [
    {
     "name": "stdout",
     "output_type": "stream",
     "text": [
      "   Manager  percent_sales\n",
      "0  Douglas      18.308990\n",
      "1  Hermann      27.963188\n",
      "2   Martha      36.187629\n",
      "3  Timothy      17.540193\n"
     ]
    }
   ],
   "source": [
    "manager = df.groupby('Manager')['Sale_amt'].sum().reset_index()\n",
    "manager['percent_sales'] = (manager['Sale_amt'] / manager['Sale_amt'].sum()) * 100\n",
    "print(manager[['Manager', 'percent_sales']])\n"
   ]
  },
  {
   "cell_type": "code",
   "execution_count": null,
   "id": "772cf494",
   "metadata": {},
   "outputs": [],
   "source": []
  },
  {
   "cell_type": "code",
   "execution_count": null,
   "id": "5319ffb8",
   "metadata": {},
   "outputs": [],
   "source": []
  }
 ],
 "metadata": {
  "kernelspec": {
   "display_name": "Python 3 (ipykernel)",
   "language": "python",
   "name": "python3"
  },
  "language_info": {
   "codemirror_mode": {
    "name": "ipython",
    "version": 3
   },
   "file_extension": ".py",
   "mimetype": "text/x-python",
   "name": "python",
   "nbconvert_exporter": "python",
   "pygments_lexer": "ipython3",
   "version": "3.11.4"
  }
 },
 "nbformat": 4,
 "nbformat_minor": 5
}
