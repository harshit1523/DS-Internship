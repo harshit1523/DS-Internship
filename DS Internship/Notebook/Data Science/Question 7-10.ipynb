{
 "cells": [
  {
   "cell_type": "code",
   "execution_count": 1,
   "id": "19a8910a",
   "metadata": {},
   "outputs": [],
   "source": [
    "import pandas as pd\n",
    "df = pd.read_csv('C:\\\\Users\\\\Lenovo\\\\Desktop\\\\DS Internship\\\\Data\\\\Data Science\\\\imdb.csv')"
   ]
  },
  {
   "cell_type": "code",
   "execution_count": 2,
   "id": "f949ee54",
   "metadata": {},
   "outputs": [
    {
     "name": "stdout",
     "output_type": "stream",
     "text": [
      "IMDb rating for fifth movie: 8.7\n"
     ]
    }
   ],
   "source": [
    "fifth = df.loc[4, 'imdbRating']\n",
    "\n",
    "print(f\"IMDb rating for fifth movie: {fifth}\")"
   ]
  },
  {
   "cell_type": "code",
   "execution_count": 3,
   "id": "4e4673a9",
   "metadata": {},
   "outputs": [
    {
     "name": "stdout",
     "output_type": "stream",
     "text": [
      "Shortest movie: Traffic Crossing Leeds Bridge (1888)\n",
      "Longest movie: Scarface - Toni\\\n"
     ]
    }
   ],
   "source": [
    "df['duration'] = pd.to_numeric(df['duration'], errors='coerce')\n",
    "shortest = df['duration'].idxmin()\n",
    "longest = df['duration'].idxmax()\n",
    "shortestmovie = df.loc[shortest, 'title']\n",
    "longestmovie = df.loc[longest, 'title']\n",
    "print(f\"Shortest movie: {shortestmovie}\")\n",
    "print(f\"Longest movie: {longestmovie}\")"
   ]
  },
  {
   "cell_type": "code",
   "execution_count": 4,
   "id": "b1affaa4",
   "metadata": {},
   "outputs": [],
   "source": [
    "df['releasedate'] = pd.to_datetime(df['year'], format='%Y', errors='coerce')\n",
    "sorteddf = df.sort_values(by=['releasedate', 'imdbRating'], ascending=[True, False])"
   ]
  },
  {
   "cell_type": "code",
   "execution_count": 5,
   "id": "e069b477",
   "metadata": {},
   "outputs": [],
   "source": [
    "df['duration'] = pd.to_numeric(df['duration'], errors='coerce')\n",
    "subset_df = df[(df['duration'] >= 30 * 60) & (df['duration'] <= 180 * 60)]"
   ]
  },
  {
   "cell_type": "code",
   "execution_count": null,
   "id": "f902ebf4",
   "metadata": {},
   "outputs": [],
   "source": []
  },
  {
   "cell_type": "code",
   "execution_count": null,
   "id": "d3b330cf",
   "metadata": {},
   "outputs": [],
   "source": []
  }
 ],
 "metadata": {
  "kernelspec": {
   "display_name": "Python 3 (ipykernel)",
   "language": "python",
   "name": "python3"
  },
  "language_info": {
   "codemirror_mode": {
    "name": "ipython",
    "version": 3
   },
   "file_extension": ".py",
   "mimetype": "text/x-python",
   "name": "python",
   "nbconvert_exporter": "python",
   "pygments_lexer": "ipython3",
   "version": "3.11.4"
  }
 },
 "nbformat": 4,
 "nbformat_minor": 5
}
