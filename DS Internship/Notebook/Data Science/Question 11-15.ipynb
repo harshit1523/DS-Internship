{
 "cells": [
  {
   "cell_type": "code",
   "execution_count": 1,
   "id": "d5cd2e62",
   "metadata": {},
   "outputs": [
    {
     "name": "stdout",
     "output_type": "stream",
     "text": [
      "Duplicate rows: 149\n"
     ]
    }
   ],
   "source": [
    "import pandas as pd\n",
    "df = pd.read_csv('C:\\\\Users\\\\Lenovo\\\\Desktop\\\\DS Internship\\\\Data\\\\Data Science\\\\diamonds.csv')\n",
    "duplicate = df.duplicated().sum()\n",
    "print(\"Duplicate rows:\", duplicate)"
   ]
  },
  {
   "cell_type": "code",
   "execution_count": 2,
   "id": "0208a5c4",
   "metadata": {},
   "outputs": [],
   "source": [
    "df.dropna(subset=['carat', 'cut'], inplace=True)"
   ]
  },
  {
   "cell_type": "code",
   "execution_count": 3,
   "id": "9e056dee",
   "metadata": {},
   "outputs": [],
   "source": [
    "numeric = df.select_dtypes(include=['number'])"
   ]
  },
  {
   "cell_type": "code",
   "execution_count": 4,
   "id": "6be52abb",
   "metadata": {},
   "outputs": [],
   "source": [
    "def calculatevolume(row):\n",
    "    if row['depth'] > 60:\n",
    "        return row['x'] * row['y'] * row['z']\n",
    "    else:\n",
    "        return 8\n",
    "df['x'] = pd.to_numeric(df['x'], errors='coerce')\n",
    "df['y'] = pd.to_numeric(df['y'], errors='coerce')\n",
    "df['z'] = pd.to_numeric(df['z'], errors='coerce')\n",
    "df['volume'] = df.apply(calculatevolume, axis=1)"
   ]
  },
  {
   "cell_type": "code",
   "execution_count": 5,
   "id": "0f52f5ed",
   "metadata": {},
   "outputs": [],
   "source": [
    "df['price'].fillna(df['price'].mean(), inplace=True)"
   ]
  },
  {
   "cell_type": "code",
   "execution_count": null,
   "id": "bd869ad2",
   "metadata": {},
   "outputs": [],
   "source": []
  }
 ],
 "metadata": {
  "kernelspec": {
   "display_name": "Python 3 (ipykernel)",
   "language": "python",
   "name": "python3"
  },
  "language_info": {
   "codemirror_mode": {
    "name": "ipython",
    "version": 3
   },
   "file_extension": ".py",
   "mimetype": "text/x-python",
   "name": "python",
   "nbconvert_exporter": "python",
   "pygments_lexer": "ipython3",
   "version": "3.11.4"
  }
 },
 "nbformat": 4,
 "nbformat_minor": 5
}
