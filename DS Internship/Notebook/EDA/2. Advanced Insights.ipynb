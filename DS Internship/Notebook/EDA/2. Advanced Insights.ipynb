{
 "cells": [
  {
   "cell_type": "code",
   "execution_count": 1,
   "id": "30d8f428",
   "metadata": {},
   "outputs": [],
   "source": [
    "import pandas as pd"
   ]
  },
  {
   "cell_type": "code",
   "execution_count": 2,
   "id": "a536e8ad",
   "metadata": {},
   "outputs": [],
   "source": [
    "df = pd.read_excel(\"C:\\\\Users\\\\Lenovo\\\\Desktop\\\\DS Internship\\\\Data\\\\EDA\\\\DS Internship - EDA - Data.xlsx\")"
   ]
  },
  {
   "cell_type": "code",
   "execution_count": 3,
   "id": "7fbccf9c",
   "metadata": {},
   "outputs": [
    {
     "name": "stdout",
     "output_type": "stream",
     "text": [
      "Top 3: E4,B6,B5\n"
     ]
    }
   ],
   "source": [
    "avgsales = df.groupby('State')['Sales'].mean().sort_values(ascending=False)\n",
    "top = avgsales.head(3).index.tolist()\n",
    "print(f\"Top 3: {','.join(top)}\")"
   ]
  },
  {
   "cell_type": "code",
   "execution_count": 4,
   "id": "6c2960cd",
   "metadata": {},
   "outputs": [
    {
     "name": "stdout",
     "output_type": "stream",
     "text": [
      "Best time: 12\n"
     ]
    }
   ],
   "source": [
    "avgsalesm = df.groupby('Month')['Sales'].mean().sort_values(ascending=False)\n",
    "best = avgsalesm.head(1).index.tolist()[0]\n",
    "print(f\"Best time: {best}\")"
   ]
  },
  {
   "cell_type": "code",
   "execution_count": 5,
   "id": "2753d5a8",
   "metadata": {},
   "outputs": [
    {
     "name": "stdout",
     "output_type": "stream",
     "text": [
      "Outlet type: Mall,Outlet,Strip:100.00,100.00,100.00\n"
     ]
    }
   ],
   "source": [
    "outlettype = df.groupby('Outlet Type')['Store Close'].apply(lambda x: (x.notnull().sum() / len(x)) * 100).sort_values(ascending=False)\n",
    "print(f\"Outlet type: {','.join(outlettype.index.tolist())}:{','.join(outlettype.map('{:.2f}'.format).tolist())}\")"
   ]
  },
  {
   "cell_type": "code",
   "execution_count": null,
   "id": "e2a3ef50",
   "metadata": {},
   "outputs": [],
   "source": []
  }
 ],
 "metadata": {
  "kernelspec": {
   "display_name": "Python 3 (ipykernel)",
   "language": "python",
   "name": "python3"
  },
  "language_info": {
   "codemirror_mode": {
    "name": "ipython",
    "version": 3
   },
   "file_extension": ".py",
   "mimetype": "text/x-python",
   "name": "python",
   "nbconvert_exporter": "python",
   "pygments_lexer": "ipython3",
   "version": "3.11.4"
  }
 },
 "nbformat": 4,
 "nbformat_minor": 5
}
