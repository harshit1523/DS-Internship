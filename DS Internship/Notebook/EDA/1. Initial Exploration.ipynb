{
 "cells": [
  {
   "cell_type": "code",
   "execution_count": 2,
   "id": "d6235a0c",
   "metadata": {},
   "outputs": [],
   "source": [
    "import pandas as pd"
   ]
  },
  {
   "cell_type": "code",
   "execution_count": 3,
   "id": "8ddaf13e",
   "metadata": {},
   "outputs": [
    {
     "name": "stdout",
     "output_type": "stream",
     "text": [
      "   Year         Sales\n",
      "0  2015  1.627585e+09\n",
      "1  2016  1.843939e+09\n",
      "2  2017  1.651322e+09\n",
      "3  2018  1.492340e+09\n",
      "4  2019  1.471963e+09\n",
      "5  2020  6.510899e+07\n"
     ]
    }
   ],
   "source": [
    "df = pd.read_excel(\"C:\\\\Users\\\\Lenovo\\\\Desktop\\\\DS Internship\\\\Data\\\\EDA\\\\DS Internship - EDA - Data.xlsx\")\n",
    "sales = df.groupby(\"Year\")[\"Sales\"].sum().reset_index()\n",
    "print(sales)"
   ]
  },
  {
   "cell_type": "code",
   "execution_count": 4,
   "id": "99097e61",
   "metadata": {},
   "outputs": [
    {
     "name": "stdout",
     "output_type": "stream",
     "text": [
      "Stores Opened in 1991: 4\n"
     ]
    }
   ],
   "source": [
    "stores= df[df['Store Open'].dt.year == 1991]['Store'].nunique()\n",
    "print(\"Stores Opened in 1991:\",stores)"
   ]
  },
  {
   "cell_type": "code",
   "execution_count": 5,
   "id": "e9a25bf9",
   "metadata": {},
   "outputs": [
    {
     "name": "stdout",
     "output_type": "stream",
     "text": [
      "Remodelled stores: 830\n"
     ]
    }
   ],
   "source": [
    "remodelled= df[df['Store Modification'] != 'No Remodel']['Store'].nunique()\n",
    "print(f\"Remodelled stores: {remodelled}\")"
   ]
  },
  {
   "cell_type": "code",
   "execution_count": 6,
   "id": "2e3da422",
   "metadata": {},
   "outputs": [
    {
     "name": "stdout",
     "output_type": "stream",
     "text": [
      "Sales and sqft reln: 0.1392\n"
     ]
    }
   ],
   "source": [
    "salessqft = df[['Sales', 'Total Sq Ft']].corr().loc['Sales', 'Total Sq Ft']\n",
    "print(f\"Sales and sqft reln: {salessqft:.4f}\")"
   ]
  },
  {
   "cell_type": "code",
   "execution_count": 7,
   "id": "0a9c3e6f",
   "metadata": {},
   "outputs": [
    {
     "name": "stdout",
     "output_type": "stream",
     "text": [
      " Most profitable: GIRLS\n"
     ]
    }
   ],
   "source": [
    "mostprofitable = df.groupby('Super Division')['Sales'].sum().idxmax()\n",
    "print(f\" Most profitable: {mostprofitable}\")"
   ]
  },
  {
   "cell_type": "code",
   "execution_count": 8,
   "id": "5bf02b35",
   "metadata": {},
   "outputs": [
    {
     "name": "stdout",
     "output_type": "stream",
     "text": [
      "Active stores: 0\n"
     ]
    }
   ],
   "source": [
    "active = df[df['Store Close'].isnull()]['Store'].nunique()\n",
    "print(f\"Active stores: {active}\")"
   ]
  },
  {
   "cell_type": "code",
   "execution_count": 9,
   "id": "c1f4f5eb",
   "metadata": {},
   "outputs": [
    {
     "name": "stdout",
     "output_type": "stream",
     "text": [
      "Most Avg sqft: KIDS\n"
     ]
    }
   ],
   "source": [
    "avg = df.groupby('Super Division')['Total Sq Ft'].mean().idxmax()\n",
    "print(f\"Most Avg sqft: {avg}\")"
   ]
  },
  {
   "cell_type": "code",
   "execution_count": null,
   "id": "4c281f85",
   "metadata": {},
   "outputs": [],
   "source": []
  },
  {
   "cell_type": "code",
   "execution_count": null,
   "id": "e441a3b5",
   "metadata": {},
   "outputs": [],
   "source": []
  },
  {
   "cell_type": "code",
   "execution_count": null,
   "id": "fe5b42bb",
   "metadata": {},
   "outputs": [],
   "source": []
  }
 ],
 "metadata": {
  "kernelspec": {
   "display_name": "Python 3 (ipykernel)",
   "language": "python",
   "name": "python3"
  },
  "language_info": {
   "codemirror_mode": {
    "name": "ipython",
    "version": 3
   },
   "file_extension": ".py",
   "mimetype": "text/x-python",
   "name": "python",
   "nbconvert_exporter": "python",
   "pygments_lexer": "ipython3",
   "version": "3.11.4"
  }
 },
 "nbformat": 4,
 "nbformat_minor": 5
}
